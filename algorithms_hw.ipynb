{
 "cells": [
  {
   "cell_type": "markdown",
   "metadata": {},
   "source": [
    "# Exercises"
   ]
  },
  {
   "cell_type": "markdown",
   "metadata": {},
   "source": [
    "### Exercise #1 <br>\n",
    "<p>Reverse the list below out-of-place using an out-of-place algorithm.<br>For extra credit: Reverse the strings at the same time.</p>"
   ]
  },
  {
   "cell_type": "code",
   "execution_count": 12,
   "metadata": {},
   "outputs": [],
   "source": [
    "words = ['this' , 'is', 'a', 'sentence', '.']"
   ]
  },
  {
   "cell_type": "code",
   "execution_count": 13,
   "metadata": {},
   "outputs": [
    {
     "name": "stdout",
     "output_type": "stream",
     "text": [
      "Reversed list-----------------------\n",
      "\n",
      "['.', 'sentence', 'a', 'is', 'this']\n",
      "\n",
      "Original list-----------------------\n",
      "\n",
      "['this', 'is', 'a', 'sentence', '.']\n"
     ]
    }
   ],
   "source": [
    "# Using reversed() function:\n",
    "\n",
    "reversed_words1 = list(reversed(words))\n",
    "\n",
    "print(\"Reversed list-----------------------\\n\")\n",
    "print(reversed_words1) # <-- reversed list\n",
    "\n",
    "print(\"\\nOriginal list-----------------------\\n\")\n",
    "print(words) # <-- original list still intact"
   ]
  },
  {
   "cell_type": "code",
   "execution_count": 14,
   "metadata": {},
   "outputs": [
    {
     "name": "stdout",
     "output_type": "stream",
     "text": [
      "Reversed list-----------------------\n",
      "\n",
      "['.', 'sentence', 'a', 'is', 'this']\n",
      "\n",
      "Original list-----------------------\n",
      "\n",
      "['this', 'is', 'a', 'sentence', '.']\n"
     ]
    }
   ],
   "source": [
    "# Using list slicing with a step size of -1:\n",
    "\n",
    "reversed_words2 = words[::-1]\n",
    "\n",
    "print(\"Reversed list-----------------------\\n\")\n",
    "print(reversed_words2) # <-- reversed list\n",
    "\n",
    "print(\"\\nOriginal list-----------------------\\n\")\n",
    "print(words) # <-- original list still intact"
   ]
  },
  {
   "cell_type": "code",
   "execution_count": 15,
   "metadata": {},
   "outputs": [
    {
     "name": "stdout",
     "output_type": "stream",
     "text": [
      "Reversed list-----------------------\n",
      "\n",
      "['.', 'sentence', 'a', 'is', 'this']\n",
      "\n",
      "Original list-----------------------\n",
      "\n",
      "['this', 'is', 'a', 'sentence', '.']\n"
     ]
    }
   ],
   "source": [
    "# Using for loop:\n",
    "\n",
    "reversed_words3 = []\n",
    "\n",
    "for i in range(len(words)):\n",
    "    reversed_words3.append(words[-(i+1)])\n",
    "\n",
    "print(\"Reversed list-----------------------\\n\")\n",
    "print(reversed_words3) # <-- reversed list\n",
    "\n",
    "print(\"\\nOriginal list-----------------------\\n\")\n",
    "print(words) # <-- original list still intact"
   ]
  },
  {
   "cell_type": "code",
   "execution_count": 16,
   "metadata": {},
   "outputs": [
    {
     "name": "stdout",
     "output_type": "stream",
     "text": [
      "Reversed list-----------------------\n",
      "\n",
      "['.', 'sentence', 'a', 'is', 'this']\n",
      "\n",
      "Original list-----------------------\n",
      "\n",
      "['this', 'is', 'a', 'sentence', '.']\n"
     ]
    }
   ],
   "source": [
    "# Using list comprehension:\n",
    "\n",
    "# Iterate over num 0 to size-1 and select elements from back i.e. -i\n",
    "\n",
    "reversed_words4 = [words[-(i+1)] for i in range(len(words))]\n",
    "\n",
    "print(\"Reversed list-----------------------\\n\")\n",
    "print(reversed_words4) # <-- reversed list\n",
    "\n",
    "print(\"\\nOriginal list-----------------------\\n\")\n",
    "print(words) # <-- original list still intact"
   ]
  },
  {
   "cell_type": "code",
   "execution_count": 17,
   "metadata": {},
   "outputs": [
    {
     "name": "stdout",
     "output_type": "stream",
     "text": [
      "Reversed list-----------------------\n",
      "\n",
      "['.', 'ecnetnes', 'a', 'si', 'siht']\n",
      "\n",
      "Original list-----------------------\n",
      "\n",
      "['this', 'is', 'a', 'sentence', '.']\n"
     ]
    }
   ],
   "source": [
    "# Reverse list, then reverse each word in list\n",
    "# using list comprehension:\n",
    "\n",
    "reversed_words5 = []\n",
    "\n",
    "for i in range(len(words)):\n",
    "    reversed_words5.append(words[-(i+1)])\n",
    "\n",
    "reversed_each_word1 = [i[::-1] for i in reversed_words5]\n",
    "\n",
    "print(\"Reversed list-----------------------\\n\")\n",
    "print(reversed_each_word1) # <-- reversed list, with each word reversed\n",
    "\n",
    "print(\"\\nOriginal list-----------------------\\n\")\n",
    "print(words) # <-- original list still intact"
   ]
  },
  {
   "cell_type": "code",
   "execution_count": 18,
   "metadata": {},
   "outputs": [
    {
     "name": "stdout",
     "output_type": "stream",
     "text": [
      "Reversed list-----------------------\n",
      "\n",
      "['siht', 'si', 'a', 'ecnetnes', '.']\n",
      "\n",
      "Original list-----------------------\n",
      "\n",
      "['this', 'is', 'a', 'sentence', '.']\n"
     ]
    }
   ],
   "source": [
    "# Reverse list, then reverse each word in list\n",
    "# using map():\n",
    "\n",
    "reversed_words6 = []\n",
    "\n",
    "for i in range(len(words)):\n",
    "    reversed_words6.append(words[-(i+1)])\n",
    "\n",
    "reverse_string = lambda i : i[::-1]\n",
    "reversed_each_word2 = list(map(reverse_string, words))\n",
    "\n",
    "print(\"Reversed list-----------------------\\n\")\n",
    "print(reversed_each_word2) # <-- reversed list, with each word reversed\n",
    "\n",
    "print(\"\\nOriginal list-----------------------\\n\")\n",
    "print(words) # <-- original list still intact"
   ]
  },
  {
   "cell_type": "markdown",
   "metadata": {},
   "source": [
    "### Exercise #2 <br>\n",
    "<p>Create a function that counts how many distinct words are in the string below, then outputs a dictionary with the words as the key and the value as the amount of times that word appears in the string.</p>\n",
    "Example Output:<code>{'in': 1, 'computing': 1, 'a': 5, ...}</code>"
   ]
  },
  {
   "cell_type": "code",
   "execution_count": 22,
   "metadata": {},
   "outputs": [
    {
     "name": "stdout",
     "output_type": "stream",
     "text": [
      "The sentence contains 53 distinct words.\n",
      "\n",
      "in : 1\n",
      "computing : 1\n",
      "a : 5\n",
      "hash : 4\n",
      "table : 2\n",
      "map : 2\n",
      "is : 1\n",
      "data : 2\n",
      "structure : 2\n",
      "which : 2\n",
      "implements : 1\n",
      "an : 3\n",
      "associative : 1\n",
      "array : 2\n",
      "abstract : 1\n",
      "type : 1\n",
      "that : 1\n",
      "can : 2\n",
      "keys : 1\n",
      "to : 2\n",
      "values : 1\n",
      "uses : 1\n",
      "function : 1\n",
      "compute : 1\n",
      "index : 1\n",
      "into : 1\n",
      "of : 1\n",
      "buckets : 1\n",
      "or : 1\n",
      "slots : 1\n",
      "from : 1\n",
      "the : 1\n",
      "desired : 1\n",
      "value : 1\n",
      "be : 1\n",
      "found : 1\n"
     ]
    }
   ],
   "source": [
    "a_text = 'In computing, a hash table hash map is a data structure which implements an associative array abstract data type, a structure that can map keys to values. A hash table uses a hash function to compute an index into an array of buckets or slots from which the desired value can be found'\n",
    "\n",
    "import re\n",
    "\n",
    "def word_count_dict(x):\n",
    "    \n",
    "    # create list of distinct words\n",
    "    distinct_words = list(re.findall('\\w+', a_text.lower())) # <-- list of each distinct word\n",
    "    print(f\"The sentence contains {len(distinct_words)} distinct words.\\n\")\n",
    "    \n",
    "    # add words, frequency to dict\n",
    "    word_freq = dict()\n",
    "    for word in distinct_words:\n",
    "        if (word in word_freq):\n",
    "            word_freq[word] += 1\n",
    "        else:\n",
    "            word_freq[word] = 1\n",
    "            \n",
    "    # print keys, values in dict line-by-line\n",
    "    for x in word_freq:\n",
    "        print(x,':',word_freq[x])\n",
    "\n",
    "word_count_dict(a_text)"
   ]
  },
  {
   "cell_type": "markdown",
   "metadata": {},
   "source": [
    "### Exercise #3\n",
    "\n",
    "Write a function implementing a Linear Search Algorithm. A linear search is a method for finding an element within a list. It sequentially checks each element of the list until a match is found or the whole list has been searched. If you do not find a match, return -1"
   ]
  },
  {
   "cell_type": "code",
   "execution_count": 1,
   "metadata": {},
   "outputs": [
    {
     "name": "stdout",
     "output_type": "stream",
     "text": [
      "70 is found at index [3] in nums_list.\n"
     ]
    },
    {
     "data": {
      "text/plain": [
       "3"
      ]
     },
     "execution_count": 1,
     "metadata": {},
     "output_type": "execute_result"
    }
   ],
   "source": [
    "# Linear Search Algorithm:\n",
    "\n",
    "nums_list = [10,23,45,70,11,15]\n",
    "target = 70\n",
    "\n",
    "def find(list, x):\n",
    "  \n",
    "    for i in range(len(nums_list)):\n",
    "  \n",
    "        if nums_list[i] == x:\n",
    "            print(f\"{x} is found at index [{i}] in nums_list.\")\n",
    "            return i\n",
    "    \n",
    "    print(f\"{x} is not found in nums_list.\")\n",
    "    return -1\n",
    "\n",
    "find(nums_list, 70) # <-- enter any integer"
   ]
  },
  {
   "cell_type": "code",
   "execution_count": 33,
   "metadata": {},
   "outputs": [
    {
     "name": "stdout",
     "output_type": "stream",
     "text": [
      "15 is not found in nums_list.\n"
     ]
    }
   ],
   "source": [
    "# Binary Search Algorithm ---- (NOT WORKING YET)\n",
    "\n",
    "nums_list = [10,23,45,70,11,15]\n",
    "target = 70\n",
    "\n",
    "def binary_search(list, low, high, x):\n",
    "\n",
    "    # Check base case\n",
    "    if high >= low:\n",
    "\n",
    "        mid = (high + low) // 2\n",
    "\n",
    "        # If target is present at the middle itself\n",
    "        if list[mid] == x:\n",
    "            print(f\"{x} is found at index [{mid}] in nums_list.\")\n",
    "            return mid\n",
    "\n",
    "        # If target < mid, then it must be in left half of list\n",
    "        elif list[mid] > x:\n",
    "            return binary_search(list, low, mid-1, x)\n",
    "\n",
    "        # Else target must be in right half\n",
    "        else:\n",
    "            return binary_search(list, mid + 1, high, x)\n",
    "\n",
    "    else:\n",
    "        # Target is not in list\n",
    "        print(f\"{x} is not found in nums_list.\")\n",
    "        return -1\n",
    "\n",
    "\n",
    "location = binary_search(nums_list, 0, len(nums_list)-1, 15)\n",
    "\n",
    "# Search methods: Linear or Binary\n",
    "# https://www.cs.usfca.edu/~galles/visualization/Search.html"
   ]
  }
 ],
 "metadata": {
  "kernelspec": {
   "display_name": "Python 3 (ipykernel)",
   "language": "python",
   "name": "python3"
  },
  "language_info": {
   "codemirror_mode": {
    "name": "ipython",
    "version": 3
   },
   "file_extension": ".py",
   "mimetype": "text/x-python",
   "name": "python",
   "nbconvert_exporter": "python",
   "pygments_lexer": "ipython3",
   "version": "3.9.7"
  }
 },
 "nbformat": 4,
 "nbformat_minor": 2
}
